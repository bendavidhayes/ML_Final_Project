{
 "cells": [
  {
   "cell_type": "markdown",
   "id": "d442ff90",
   "metadata": {},
   "source": [
    "# Predicting Chub Density based on river environment"
   ]
  },
  {
   "cell_type": "markdown",
   "id": "63eed777",
   "metadata": {},
   "source": [
    "github: https://github.com/bendavidhayes/ML_Final_Project.git"
   ]
  },
  {
   "cell_type": "markdown",
   "id": "7928c3c3",
   "metadata": {},
   "source": [
    "# Project Topic\n",
    "This Notebook analyzes how the environment impacts fish life, specifically a fish called chub.\n",
    "\n",
    "**Goal:** The objective of the analysis is to develop a model to accurately predict the amount of fish in a river section, based on environmental factors. "
   ]
  },
  {
   "cell_type": "markdown",
   "id": "4150ed43",
   "metadata": {},
   "source": [
    "# Data Description\n",
    "The Data used in this analysis was provided by the University of Natural Resources and Life Sciences in Vienna, Austria. \n",
    "\n",
    "It was collected in a variety of rivers in Austria. For each observation a section of a river was contained using nets. All fish in the containment were caught, weighed and then released. The target in this analysis is the biomass of all Chub caught in a section, measured in kg/ha.\n",
    "\n",
    "**target:** \n",
    "- Chub_BIO: Chub Biomass (kg/ha)\n",
    "\n",
    "**features:**\n",
    "- Fischregion\n",
    "- CL1_Artificial surfaces: Proportion of Area surrounding the catchment area that is artificial, e.g. Buildings, streets.\n",
    "- SSI: Standard Sinuousity Index (higher values reflect more curves in the river)\n",
    "- BW_MORPH: Riverbank width morphology index\n",
    "- PHB_SAPRO: phytobenthic condition\n",
    "- MZB_SAPRO: saprobic condition\n",
    "- TROPH_ZUST: trophic condition\n",
    "- ZUST_SCHAD = ZUST_SCHADST_EU_2015: pollutant grading according to EU standard\n",
    "- ZUST_BIO_7 = ZUST_BIOLOGIE_STOFFE_2015: grading of biological condition\n",
    "- LAUFENTWICKLUNG: development of river run\n",
    "- SUBSTRATZUSAMMENSETZUNG: composition of river substrate\n",
    "- FIA: Fish Index Austria\n",
    "- Chub_corridor_m: length of river system, that is accessible to fish\n",
    "- 5J_AMP_50_REL_MAXNAT: hydrological variable                  \n",
    "- 5J_MAFR_CNT: hydrological variable"
   ]
  },
  {
   "cell_type": "markdown",
   "id": "65234f87",
   "metadata": {},
   "source": [
    "# Import Libraries & Data "
   ]
  },
  {
   "cell_type": "code",
   "execution_count": 1,
   "id": "6c8dbbf5",
   "metadata": {},
   "outputs": [],
   "source": [
    "#import libraries\n",
    "import pandas as pd\n",
    "import matplotlib.pyplot as plt\n",
    "import numpy as np\n",
    "import math\n",
    "import scipy as sp\n",
    "import scipy.stats as stats\n",
    "import seaborn as sns"
   ]
  },
  {
   "cell_type": "code",
   "execution_count": 2,
   "id": "d7100b35",
   "metadata": {
    "scrolled": true
   },
   "outputs": [],
   "source": [
    "#read csv\n",
    "csv_file_path = 'C:/Users/benda/cyprinid_2023.csv'\n",
    "biomass = pd.read_csv(csv_file_path, delimiter=';', decimal=',')\n",
    "\n",
    "# labels of features and targets to include in analysis\n",
    "columns_to_keep = [\"Chub_BIO\",\n",
    "                   \"Fischregion\",\n",
    "                   \"CL1_Artificial surfaces\",\n",
    "                   \"SSI\",\n",
    "                   \"BW_MORPH\",\n",
    "                   \"PHB_SAPRO\",\n",
    "                   \"MZB_SAPRO\",\n",
    "                   \"TROPH_ZUST\",\n",
    "                   \"ZUST_SCHAD = ZUST_SCHADST_EU_2015\",\n",
    "                   \"ZUST_BIO_7 = ZUST_BIOLOGIE_STOFFE_2015\",\n",
    "                   \"LAUFENTWICKLUNG\",\n",
    "                   \"SUBSTRATZUSAMMENSETZUNG\",\n",
    "                   \"FIA\",\n",
    "                   \"Chub_corridor_m\",\n",
    "                   \"5J_AMP_50_REL_MAXNAT\",                   \n",
    "                   \"5J_MAFR_CNT\",\n",
    "                  ]\n",
    "\n",
    "biomass = biomass[columns_to_keep] # select features for analysis\n",
    "# transform FIA into float64\n",
    "biomass['FIA'] = biomass['FIA'].str.replace(',', '.', regex=True).astype(float)\n",
    "\n",
    "# collaps variables in feature \"Fischregion\"\n",
    "to_replace = [\"Hyporhithral groß\", \"Hyporhithral klein\", \n",
    "              \"Epipotamal groß\", \"Epipotamal mittel\", \"Epipotamal klein\",\n",
    "              \"Epipotamal mittel 1\", \"Epipotamal mittel 2\"]\n",
    "replacement = [\"Hyporhithral\", \"Hyporhithral\", \n",
    "               \"Epipomatal\", \"Epipomatal\", \"Epipomatal\",\n",
    "               \"Epipomatal\", \"Epipomatal\"]\n",
    "\n",
    "biomass[\"Fischregion\"].replace(to_replace, replacement, inplace=True)"
   ]
  },
  {
   "cell_type": "markdown",
   "id": "e51c38ca",
   "metadata": {},
   "source": [
    "# EDA & Data Cleaning"
   ]
  },
  {
   "cell_type": "markdown",
   "id": "1a06dbef",
   "metadata": {},
   "source": [
    "Since the EDA informs the Data Cleaning Steps needed I decided to combine the two. This helps avoids showing the same visuals for different purposes twice. "
   ]
  },
  {
   "cell_type": "code",
   "execution_count": 3,
   "id": "d198b838",
   "metadata": {
    "scrolled": false
   },
   "outputs": [
    {
     "name": "stdout",
     "output_type": "stream",
     "text": [
      "<class 'pandas.core.frame.DataFrame'>\n",
      "RangeIndex: 115 entries, 0 to 114\n",
      "Data columns (total 16 columns):\n",
      " #   Column                                  Non-Null Count  Dtype  \n",
      "---  ------                                  --------------  -----  \n",
      " 0   Chub_BIO                                115 non-null    float64\n",
      " 1   Fischregion                             115 non-null    object \n",
      " 2   CL1_Artificial surfaces                 115 non-null    float64\n",
      " 3   SSI                                     115 non-null    float64\n",
      " 4   BW_MORPH                                53 non-null     float64\n",
      " 5   PHB_SAPRO                               115 non-null    object \n",
      " 6   MZB_SAPRO                               115 non-null    float64\n",
      " 7   TROPH_ZUST                              115 non-null    object \n",
      " 8   ZUST_SCHAD = ZUST_SCHADST_EU_2015       115 non-null    int64  \n",
      " 9   ZUST_BIO_7 = ZUST_BIOLOGIE_STOFFE_2015  115 non-null    int64  \n",
      " 10  LAUFENTWICKLUNG                         91 non-null     float64\n",
      " 11  SUBSTRATZUSAMMENSETZUNG                 87 non-null     float64\n",
      " 12  FIA                                     115 non-null    float64\n",
      " 13  Chub_corridor_m                         114 non-null    float64\n",
      " 14  5J_AMP_50_REL_MAXNAT                    115 non-null    float64\n",
      " 15  5J_MAFR_CNT                             115 non-null    int64  \n",
      "dtypes: float64(10), int64(3), object(3)\n",
      "memory usage: 14.5+ KB\n"
     ]
    }
   ],
   "source": [
    "biomass.info() # show basic info about data"
   ]
  },
  {
   "cell_type": "markdown",
   "id": "e6cca00f",
   "metadata": {},
   "source": [
    "The data set has 115 observations and 16 features (including the target). There are 10 quantitative variables, 3 ordinal, and 3 qualitative. Four features have missing values. "
   ]
  },
  {
   "cell_type": "markdown",
   "id": "98eea7db",
   "metadata": {},
   "source": [
    "### Summary Statistics"
   ]
  },
  {
   "cell_type": "code",
   "execution_count": 4,
   "id": "19439138",
   "metadata": {
    "scrolled": true
   },
   "outputs": [
    {
     "data": {
      "text/html": [
       "<div>\n",
       "<style scoped>\n",
       "    .dataframe tbody tr th:only-of-type {\n",
       "        vertical-align: middle;\n",
       "    }\n",
       "\n",
       "    .dataframe tbody tr th {\n",
       "        vertical-align: top;\n",
       "    }\n",
       "\n",
       "    .dataframe thead th {\n",
       "        text-align: right;\n",
       "    }\n",
       "</style>\n",
       "<table border=\"1\" class=\"dataframe\">\n",
       "  <thead>\n",
       "    <tr style=\"text-align: right;\">\n",
       "      <th></th>\n",
       "      <th>Chub_BIO</th>\n",
       "      <th>CL1_Artificial surfaces</th>\n",
       "      <th>SSI</th>\n",
       "      <th>BW_MORPH</th>\n",
       "      <th>MZB_SAPRO</th>\n",
       "      <th>ZUST_SCHAD = ZUST_SCHADST_EU_2015</th>\n",
       "      <th>ZUST_BIO_7 = ZUST_BIOLOGIE_STOFFE_2015</th>\n",
       "      <th>LAUFENTWICKLUNG</th>\n",
       "      <th>SUBSTRATZUSAMMENSETZUNG</th>\n",
       "      <th>FIA</th>\n",
       "      <th>Chub_corridor_m</th>\n",
       "      <th>5J_AMP_50_REL_MAXNAT</th>\n",
       "      <th>5J_MAFR_CNT</th>\n",
       "    </tr>\n",
       "  </thead>\n",
       "  <tbody>\n",
       "    <tr>\n",
       "      <th>count</th>\n",
       "      <td>115.000000</td>\n",
       "      <td>115.000000</td>\n",
       "      <td>115.000000</td>\n",
       "      <td>53.000000</td>\n",
       "      <td>115.000000</td>\n",
       "      <td>115.000000</td>\n",
       "      <td>115.000000</td>\n",
       "      <td>91.000000</td>\n",
       "      <td>87.000000</td>\n",
       "      <td>115.000000</td>\n",
       "      <td>114.000000</td>\n",
       "      <td>115.000000</td>\n",
       "      <td>115.000000</td>\n",
       "    </tr>\n",
       "    <tr>\n",
       "      <th>mean</th>\n",
       "      <td>36.168235</td>\n",
       "      <td>0.062406</td>\n",
       "      <td>1.077643</td>\n",
       "      <td>0.142628</td>\n",
       "      <td>1.782609</td>\n",
       "      <td>1.017391</td>\n",
       "      <td>2.286957</td>\n",
       "      <td>1.846154</td>\n",
       "      <td>1.356322</td>\n",
       "      <td>3.312087</td>\n",
       "      <td>16454.471047</td>\n",
       "      <td>0.357959</td>\n",
       "      <td>1538.713043</td>\n",
       "    </tr>\n",
       "    <tr>\n",
       "      <th>std</th>\n",
       "      <td>56.564671</td>\n",
       "      <td>0.015785</td>\n",
       "      <td>0.113820</td>\n",
       "      <td>0.135535</td>\n",
       "      <td>0.146306</td>\n",
       "      <td>0.186501</td>\n",
       "      <td>0.722632</td>\n",
       "      <td>0.681878</td>\n",
       "      <td>0.570129</td>\n",
       "      <td>0.827941</td>\n",
       "      <td>29514.763080</td>\n",
       "      <td>0.108584</td>\n",
       "      <td>3020.306499</td>\n",
       "    </tr>\n",
       "    <tr>\n",
       "      <th>min</th>\n",
       "      <td>0.000000</td>\n",
       "      <td>0.033827</td>\n",
       "      <td>1.000000</td>\n",
       "      <td>0.019885</td>\n",
       "      <td>1.250000</td>\n",
       "      <td>1.000000</td>\n",
       "      <td>1.000000</td>\n",
       "      <td>1.000000</td>\n",
       "      <td>1.000000</td>\n",
       "      <td>1.780000</td>\n",
       "      <td>82.622809</td>\n",
       "      <td>0.224370</td>\n",
       "      <td>4.000000</td>\n",
       "    </tr>\n",
       "    <tr>\n",
       "      <th>25%</th>\n",
       "      <td>0.000000</td>\n",
       "      <td>0.051312</td>\n",
       "      <td>1.008264</td>\n",
       "      <td>0.064863</td>\n",
       "      <td>1.750000</td>\n",
       "      <td>1.000000</td>\n",
       "      <td>2.000000</td>\n",
       "      <td>1.000000</td>\n",
       "      <td>1.000000</td>\n",
       "      <td>2.750000</td>\n",
       "      <td>1942.316884</td>\n",
       "      <td>0.272438</td>\n",
       "      <td>119.000000</td>\n",
       "    </tr>\n",
       "    <tr>\n",
       "      <th>50%</th>\n",
       "      <td>7.768000</td>\n",
       "      <td>0.063618</td>\n",
       "      <td>1.041361</td>\n",
       "      <td>0.099541</td>\n",
       "      <td>1.750000</td>\n",
       "      <td>1.000000</td>\n",
       "      <td>2.000000</td>\n",
       "      <td>2.000000</td>\n",
       "      <td>1.000000</td>\n",
       "      <td>3.260000</td>\n",
       "      <td>4149.509374</td>\n",
       "      <td>0.336563</td>\n",
       "      <td>213.000000</td>\n",
       "    </tr>\n",
       "    <tr>\n",
       "      <th>75%</th>\n",
       "      <td>45.880000</td>\n",
       "      <td>0.071134</td>\n",
       "      <td>1.108768</td>\n",
       "      <td>0.168475</td>\n",
       "      <td>1.750000</td>\n",
       "      <td>1.000000</td>\n",
       "      <td>2.500000</td>\n",
       "      <td>2.000000</td>\n",
       "      <td>2.000000</td>\n",
       "      <td>3.950000</td>\n",
       "      <td>12136.898517</td>\n",
       "      <td>0.406962</td>\n",
       "      <td>1465.500000</td>\n",
       "    </tr>\n",
       "    <tr>\n",
       "      <th>max</th>\n",
       "      <td>326.084000</td>\n",
       "      <td>0.087296</td>\n",
       "      <td>1.913400</td>\n",
       "      <td>0.879331</td>\n",
       "      <td>2.000000</td>\n",
       "      <td>3.000000</td>\n",
       "      <td>7.000000</td>\n",
       "      <td>3.000000</td>\n",
       "      <td>3.000000</td>\n",
       "      <td>5.000000</td>\n",
       "      <td>123485.137800</td>\n",
       "      <td>0.851794</td>\n",
       "      <td>19640.000000</td>\n",
       "    </tr>\n",
       "  </tbody>\n",
       "</table>\n",
       "</div>"
      ],
      "text/plain": [
       "         Chub_BIO  CL1_Artificial surfaces         SSI   BW_MORPH   MZB_SAPRO  \\\n",
       "count  115.000000               115.000000  115.000000  53.000000  115.000000   \n",
       "mean    36.168235                 0.062406    1.077643   0.142628    1.782609   \n",
       "std     56.564671                 0.015785    0.113820   0.135535    0.146306   \n",
       "min      0.000000                 0.033827    1.000000   0.019885    1.250000   \n",
       "25%      0.000000                 0.051312    1.008264   0.064863    1.750000   \n",
       "50%      7.768000                 0.063618    1.041361   0.099541    1.750000   \n",
       "75%     45.880000                 0.071134    1.108768   0.168475    1.750000   \n",
       "max    326.084000                 0.087296    1.913400   0.879331    2.000000   \n",
       "\n",
       "       ZUST_SCHAD = ZUST_SCHADST_EU_2015  \\\n",
       "count                         115.000000   \n",
       "mean                            1.017391   \n",
       "std                             0.186501   \n",
       "min                             1.000000   \n",
       "25%                             1.000000   \n",
       "50%                             1.000000   \n",
       "75%                             1.000000   \n",
       "max                             3.000000   \n",
       "\n",
       "       ZUST_BIO_7 = ZUST_BIOLOGIE_STOFFE_2015  LAUFENTWICKLUNG  \\\n",
       "count                              115.000000        91.000000   \n",
       "mean                                 2.286957         1.846154   \n",
       "std                                  0.722632         0.681878   \n",
       "min                                  1.000000         1.000000   \n",
       "25%                                  2.000000         1.000000   \n",
       "50%                                  2.000000         2.000000   \n",
       "75%                                  2.500000         2.000000   \n",
       "max                                  7.000000         3.000000   \n",
       "\n",
       "       SUBSTRATZUSAMMENSETZUNG         FIA  Chub_corridor_m  \\\n",
       "count                87.000000  115.000000       114.000000   \n",
       "mean                  1.356322    3.312087     16454.471047   \n",
       "std                   0.570129    0.827941     29514.763080   \n",
       "min                   1.000000    1.780000        82.622809   \n",
       "25%                   1.000000    2.750000      1942.316884   \n",
       "50%                   1.000000    3.260000      4149.509374   \n",
       "75%                   2.000000    3.950000     12136.898517   \n",
       "max                   3.000000    5.000000    123485.137800   \n",
       "\n",
       "       5J_AMP_50_REL_MAXNAT   5J_MAFR_CNT  \n",
       "count            115.000000    115.000000  \n",
       "mean               0.357959   1538.713043  \n",
       "std                0.108584   3020.306499  \n",
       "min                0.224370      4.000000  \n",
       "25%                0.272438    119.000000  \n",
       "50%                0.336563    213.000000  \n",
       "75%                0.406962   1465.500000  \n",
       "max                0.851794  19640.000000  "
      ]
     },
     "execution_count": 4,
     "metadata": {},
     "output_type": "execute_result"
    }
   ],
   "source": [
    "pd.set_option('display.max_columns', 150) # increase max columns shown in output\n",
    "\n",
    "biomass.describe() # summary statistics of quantitative variables"
   ]
  },
  {
   "cell_type": "code",
   "execution_count": 5,
   "id": "00adcaf8",
   "metadata": {
    "scrolled": true
   },
   "outputs": [
    {
     "data": {
      "text/html": [
       "<div>\n",
       "<style scoped>\n",
       "    .dataframe tbody tr th:only-of-type {\n",
       "        vertical-align: middle;\n",
       "    }\n",
       "\n",
       "    .dataframe tbody tr th {\n",
       "        vertical-align: top;\n",
       "    }\n",
       "\n",
       "    .dataframe thead th {\n",
       "        text-align: right;\n",
       "    }\n",
       "</style>\n",
       "<table border=\"1\" class=\"dataframe\">\n",
       "  <thead>\n",
       "    <tr style=\"text-align: right;\">\n",
       "      <th></th>\n",
       "      <th>Chub_BIO</th>\n",
       "      <th>Fischregion</th>\n",
       "      <th>CL1_Artificial surfaces</th>\n",
       "      <th>SSI</th>\n",
       "      <th>BW_MORPH</th>\n",
       "      <th>PHB_SAPRO</th>\n",
       "      <th>MZB_SAPRO</th>\n",
       "      <th>TROPH_ZUST</th>\n",
       "      <th>ZUST_SCHAD = ZUST_SCHADST_EU_2015</th>\n",
       "      <th>ZUST_BIO_7 = ZUST_BIOLOGIE_STOFFE_2015</th>\n",
       "      <th>LAUFENTWICKLUNG</th>\n",
       "      <th>SUBSTRATZUSAMMENSETZUNG</th>\n",
       "      <th>FIA</th>\n",
       "      <th>Chub_corridor_m</th>\n",
       "      <th>5J_AMP_50_REL_MAXNAT</th>\n",
       "      <th>5J_MAFR_CNT</th>\n",
       "    </tr>\n",
       "  </thead>\n",
       "  <tbody>\n",
       "    <tr>\n",
       "      <th>0</th>\n",
       "      <td>0.00</td>\n",
       "      <td>Hyporhithral</td>\n",
       "      <td>0.070794</td>\n",
       "      <td>1.007143</td>\n",
       "      <td>0.062240</td>\n",
       "      <td>I-II B</td>\n",
       "      <td>1.50</td>\n",
       "      <td>mt</td>\n",
       "      <td>1</td>\n",
       "      <td>2</td>\n",
       "      <td>2.0</td>\n",
       "      <td>2.0</td>\n",
       "      <td>5.0</td>\n",
       "      <td>9429.460433</td>\n",
       "      <td>0.279878</td>\n",
       "      <td>6128</td>\n",
       "    </tr>\n",
       "    <tr>\n",
       "      <th>1</th>\n",
       "      <td>0.00</td>\n",
       "      <td>Hyporhithral</td>\n",
       "      <td>0.051312</td>\n",
       "      <td>1.041361</td>\n",
       "      <td>0.168475</td>\n",
       "      <td>I-II B</td>\n",
       "      <td>1.75</td>\n",
       "      <td>me1</td>\n",
       "      <td>1</td>\n",
       "      <td>2</td>\n",
       "      <td>NaN</td>\n",
       "      <td>NaN</td>\n",
       "      <td>5.0</td>\n",
       "      <td>30268.862880</td>\n",
       "      <td>0.238242</td>\n",
       "      <td>1623</td>\n",
       "    </tr>\n",
       "    <tr>\n",
       "      <th>2</th>\n",
       "      <td>0.00</td>\n",
       "      <td>Hyporhithral</td>\n",
       "      <td>0.040292</td>\n",
       "      <td>1.121244</td>\n",
       "      <td>0.080595</td>\n",
       "      <td>I-II B</td>\n",
       "      <td>1.50</td>\n",
       "      <td>om</td>\n",
       "      <td>1</td>\n",
       "      <td>2</td>\n",
       "      <td>NaN</td>\n",
       "      <td>NaN</td>\n",
       "      <td>4.0</td>\n",
       "      <td>79230.114260</td>\n",
       "      <td>0.266632</td>\n",
       "      <td>4711</td>\n",
       "    </tr>\n",
       "    <tr>\n",
       "      <th>3</th>\n",
       "      <td>0.00</td>\n",
       "      <td>Hyporhithral</td>\n",
       "      <td>0.040292</td>\n",
       "      <td>1.042523</td>\n",
       "      <td>0.063849</td>\n",
       "      <td>I-II B</td>\n",
       "      <td>1.75</td>\n",
       "      <td>om</td>\n",
       "      <td>1</td>\n",
       "      <td>2</td>\n",
       "      <td>NaN</td>\n",
       "      <td>NaN</td>\n",
       "      <td>5.0</td>\n",
       "      <td>79230.114260</td>\n",
       "      <td>0.271759</td>\n",
       "      <td>4003</td>\n",
       "    </tr>\n",
       "    <tr>\n",
       "      <th>4</th>\n",
       "      <td>0.01</td>\n",
       "      <td>Hyporhithral</td>\n",
       "      <td>0.040292</td>\n",
       "      <td>1.129526</td>\n",
       "      <td>0.096156</td>\n",
       "      <td>I-II B</td>\n",
       "      <td>1.75</td>\n",
       "      <td>om</td>\n",
       "      <td>1</td>\n",
       "      <td>2</td>\n",
       "      <td>NaN</td>\n",
       "      <td>NaN</td>\n",
       "      <td>5.0</td>\n",
       "      <td>79230.114260</td>\n",
       "      <td>0.271759</td>\n",
       "      <td>4004</td>\n",
       "    </tr>\n",
       "  </tbody>\n",
       "</table>\n",
       "</div>"
      ],
      "text/plain": [
       "   Chub_BIO   Fischregion  CL1_Artificial surfaces       SSI  BW_MORPH  \\\n",
       "0      0.00  Hyporhithral                 0.070794  1.007143  0.062240   \n",
       "1      0.00  Hyporhithral                 0.051312  1.041361  0.168475   \n",
       "2      0.00  Hyporhithral                 0.040292  1.121244  0.080595   \n",
       "3      0.00  Hyporhithral                 0.040292  1.042523  0.063849   \n",
       "4      0.01  Hyporhithral                 0.040292  1.129526  0.096156   \n",
       "\n",
       "  PHB_SAPRO  MZB_SAPRO TROPH_ZUST  ZUST_SCHAD = ZUST_SCHADST_EU_2015  \\\n",
       "0    I-II B       1.50         mt                                  1   \n",
       "1    I-II B       1.75        me1                                  1   \n",
       "2    I-II B       1.50         om                                  1   \n",
       "3    I-II B       1.75         om                                  1   \n",
       "4    I-II B       1.75         om                                  1   \n",
       "\n",
       "   ZUST_BIO_7 = ZUST_BIOLOGIE_STOFFE_2015  LAUFENTWICKLUNG  \\\n",
       "0                                       2              2.0   \n",
       "1                                       2              NaN   \n",
       "2                                       2              NaN   \n",
       "3                                       2              NaN   \n",
       "4                                       2              NaN   \n",
       "\n",
       "   SUBSTRATZUSAMMENSETZUNG  FIA  Chub_corridor_m  5J_AMP_50_REL_MAXNAT  \\\n",
       "0                      2.0  5.0      9429.460433              0.279878   \n",
       "1                      NaN  5.0     30268.862880              0.238242   \n",
       "2                      NaN  4.0     79230.114260              0.266632   \n",
       "3                      NaN  5.0     79230.114260              0.271759   \n",
       "4                      NaN  5.0     79230.114260              0.271759   \n",
       "\n",
       "   5J_MAFR_CNT  \n",
       "0         6128  \n",
       "1         1623  \n",
       "2         4711  \n",
       "3         4003  \n",
       "4         4004  "
      ]
     },
     "execution_count": 5,
     "metadata": {},
     "output_type": "execute_result"
    }
   ],
   "source": [
    "biomass.head()"
   ]
  },
  {
   "cell_type": "markdown",
   "id": "4003e491",
   "metadata": {},
   "source": [
    "### Correlation"
   ]
  },
  {
   "cell_type": "code",
   "execution_count": 6,
   "id": "2034d579",
   "metadata": {},
   "outputs": [
    {
     "name": "stderr",
     "output_type": "stream",
     "text": [
      "C:\\Users\\benda\\AppData\\Local\\Temp\\ipykernel_2312\\2084939813.py:1: FutureWarning: The default value of numeric_only in DataFrame.corr is deprecated. In a future version, it will default to False. Select only valid columns or specify the value of numeric_only to silence this warning.\n",
      "  biomass.corr()\n"
     ]
    },
    {
     "data": {
      "text/html": [
       "<div>\n",
       "<style scoped>\n",
       "    .dataframe tbody tr th:only-of-type {\n",
       "        vertical-align: middle;\n",
       "    }\n",
       "\n",
       "    .dataframe tbody tr th {\n",
       "        vertical-align: top;\n",
       "    }\n",
       "\n",
       "    .dataframe thead th {\n",
       "        text-align: right;\n",
       "    }\n",
       "</style>\n",
       "<table border=\"1\" class=\"dataframe\">\n",
       "  <thead>\n",
       "    <tr style=\"text-align: right;\">\n",
       "      <th></th>\n",
       "      <th>Chub_BIO</th>\n",
       "      <th>CL1_Artificial surfaces</th>\n",
       "      <th>SSI</th>\n",
       "      <th>BW_MORPH</th>\n",
       "      <th>MZB_SAPRO</th>\n",
       "      <th>ZUST_SCHAD = ZUST_SCHADST_EU_2015</th>\n",
       "      <th>ZUST_BIO_7 = ZUST_BIOLOGIE_STOFFE_2015</th>\n",
       "      <th>LAUFENTWICKLUNG</th>\n",
       "      <th>SUBSTRATZUSAMMENSETZUNG</th>\n",
       "      <th>FIA</th>\n",
       "      <th>Chub_corridor_m</th>\n",
       "      <th>5J_AMP_50_REL_MAXNAT</th>\n",
       "      <th>5J_MAFR_CNT</th>\n",
       "    </tr>\n",
       "  </thead>\n",
       "  <tbody>\n",
       "    <tr>\n",
       "      <th>Chub_BIO</th>\n",
       "      <td>1.000000</td>\n",
       "      <td>0.261430</td>\n",
       "      <td>0.085997</td>\n",
       "      <td>0.165504</td>\n",
       "      <td>0.143203</td>\n",
       "      <td>0.131053</td>\n",
       "      <td>0.182150</td>\n",
       "      <td>0.088531</td>\n",
       "      <td>0.048613</td>\n",
       "      <td>-0.386005</td>\n",
       "      <td>-0.220738</td>\n",
       "      <td>0.448390</td>\n",
       "      <td>-0.261384</td>\n",
       "    </tr>\n",
       "    <tr>\n",
       "      <th>CL1_Artificial surfaces</th>\n",
       "      <td>0.261430</td>\n",
       "      <td>1.000000</td>\n",
       "      <td>-0.005526</td>\n",
       "      <td>0.122175</td>\n",
       "      <td>0.259991</td>\n",
       "      <td>0.024699</td>\n",
       "      <td>0.166062</td>\n",
       "      <td>0.095971</td>\n",
       "      <td>-0.189610</td>\n",
       "      <td>-0.251162</td>\n",
       "      <td>-0.387683</td>\n",
       "      <td>0.421268</td>\n",
       "      <td>-0.351328</td>\n",
       "    </tr>\n",
       "    <tr>\n",
       "      <th>SSI</th>\n",
       "      <td>0.085997</td>\n",
       "      <td>-0.005526</td>\n",
       "      <td>1.000000</td>\n",
       "      <td>0.308774</td>\n",
       "      <td>0.086686</td>\n",
       "      <td>-0.063399</td>\n",
       "      <td>0.112231</td>\n",
       "      <td>-0.164914</td>\n",
       "      <td>-0.141465</td>\n",
       "      <td>-0.195856</td>\n",
       "      <td>-0.136852</td>\n",
       "      <td>0.270942</td>\n",
       "      <td>-0.079804</td>\n",
       "    </tr>\n",
       "    <tr>\n",
       "      <th>BW_MORPH</th>\n",
       "      <td>0.165504</td>\n",
       "      <td>0.122175</td>\n",
       "      <td>0.308774</td>\n",
       "      <td>1.000000</td>\n",
       "      <td>0.379584</td>\n",
       "      <td>NaN</td>\n",
       "      <td>0.200858</td>\n",
       "      <td>0.067082</td>\n",
       "      <td>-0.039393</td>\n",
       "      <td>-0.089231</td>\n",
       "      <td>-0.260197</td>\n",
       "      <td>0.277298</td>\n",
       "      <td>-0.270984</td>\n",
       "    </tr>\n",
       "    <tr>\n",
       "      <th>MZB_SAPRO</th>\n",
       "      <td>0.143203</td>\n",
       "      <td>0.259991</td>\n",
       "      <td>0.086686</td>\n",
       "      <td>0.379584</td>\n",
       "      <td>1.000000</td>\n",
       "      <td>0.139773</td>\n",
       "      <td>0.221852</td>\n",
       "      <td>0.145032</td>\n",
       "      <td>-0.140083</td>\n",
       "      <td>-0.251307</td>\n",
       "      <td>-0.238651</td>\n",
       "      <td>0.225730</td>\n",
       "      <td>-0.299024</td>\n",
       "    </tr>\n",
       "    <tr>\n",
       "      <th>ZUST_SCHAD = ZUST_SCHADST_EU_2015</th>\n",
       "      <td>0.131053</td>\n",
       "      <td>0.024699</td>\n",
       "      <td>-0.063399</td>\n",
       "      <td>NaN</td>\n",
       "      <td>0.139773</td>\n",
       "      <td>1.000000</td>\n",
       "      <td>0.092820</td>\n",
       "      <td>0.179358</td>\n",
       "      <td>-0.067785</td>\n",
       "      <td>-0.072952</td>\n",
       "      <td>-0.033998</td>\n",
       "      <td>-0.063383</td>\n",
       "      <td>-0.047799</td>\n",
       "    </tr>\n",
       "    <tr>\n",
       "      <th>ZUST_BIO_7 = ZUST_BIOLOGIE_STOFFE_2015</th>\n",
       "      <td>0.182150</td>\n",
       "      <td>0.166062</td>\n",
       "      <td>0.112231</td>\n",
       "      <td>0.200858</td>\n",
       "      <td>0.221852</td>\n",
       "      <td>0.092820</td>\n",
       "      <td>1.000000</td>\n",
       "      <td>0.165331</td>\n",
       "      <td>0.040299</td>\n",
       "      <td>-0.209790</td>\n",
       "      <td>-0.117888</td>\n",
       "      <td>0.236834</td>\n",
       "      <td>-0.156935</td>\n",
       "    </tr>\n",
       "    <tr>\n",
       "      <th>LAUFENTWICKLUNG</th>\n",
       "      <td>0.088531</td>\n",
       "      <td>0.095971</td>\n",
       "      <td>-0.164914</td>\n",
       "      <td>0.067082</td>\n",
       "      <td>0.145032</td>\n",
       "      <td>0.179358</td>\n",
       "      <td>0.165331</td>\n",
       "      <td>1.000000</td>\n",
       "      <td>0.475179</td>\n",
       "      <td>0.349685</td>\n",
       "      <td>-0.127221</td>\n",
       "      <td>0.154252</td>\n",
       "      <td>-0.175154</td>\n",
       "    </tr>\n",
       "    <tr>\n",
       "      <th>SUBSTRATZUSAMMENSETZUNG</th>\n",
       "      <td>0.048613</td>\n",
       "      <td>-0.189610</td>\n",
       "      <td>-0.141465</td>\n",
       "      <td>-0.039393</td>\n",
       "      <td>-0.140083</td>\n",
       "      <td>-0.067785</td>\n",
       "      <td>0.040299</td>\n",
       "      <td>0.475179</td>\n",
       "      <td>1.000000</td>\n",
       "      <td>0.337124</td>\n",
       "      <td>-0.085878</td>\n",
       "      <td>-0.028876</td>\n",
       "      <td>0.042397</td>\n",
       "    </tr>\n",
       "    <tr>\n",
       "      <th>FIA</th>\n",
       "      <td>-0.386005</td>\n",
       "      <td>-0.251162</td>\n",
       "      <td>-0.195856</td>\n",
       "      <td>-0.089231</td>\n",
       "      <td>-0.251307</td>\n",
       "      <td>-0.072952</td>\n",
       "      <td>-0.209790</td>\n",
       "      <td>0.349685</td>\n",
       "      <td>0.337124</td>\n",
       "      <td>1.000000</td>\n",
       "      <td>0.376283</td>\n",
       "      <td>-0.310837</td>\n",
       "      <td>0.146017</td>\n",
       "    </tr>\n",
       "    <tr>\n",
       "      <th>Chub_corridor_m</th>\n",
       "      <td>-0.220738</td>\n",
       "      <td>-0.387683</td>\n",
       "      <td>-0.136852</td>\n",
       "      <td>-0.260197</td>\n",
       "      <td>-0.238651</td>\n",
       "      <td>-0.033998</td>\n",
       "      <td>-0.117888</td>\n",
       "      <td>-0.127221</td>\n",
       "      <td>-0.085878</td>\n",
       "      <td>0.376283</td>\n",
       "      <td>1.000000</td>\n",
       "      <td>-0.347037</td>\n",
       "      <td>0.074029</td>\n",
       "    </tr>\n",
       "    <tr>\n",
       "      <th>5J_AMP_50_REL_MAXNAT</th>\n",
       "      <td>0.448390</td>\n",
       "      <td>0.421268</td>\n",
       "      <td>0.270942</td>\n",
       "      <td>0.277298</td>\n",
       "      <td>0.225730</td>\n",
       "      <td>-0.063383</td>\n",
       "      <td>0.236834</td>\n",
       "      <td>0.154252</td>\n",
       "      <td>-0.028876</td>\n",
       "      <td>-0.310837</td>\n",
       "      <td>-0.347037</td>\n",
       "      <td>1.000000</td>\n",
       "      <td>-0.283345</td>\n",
       "    </tr>\n",
       "    <tr>\n",
       "      <th>5J_MAFR_CNT</th>\n",
       "      <td>-0.261384</td>\n",
       "      <td>-0.351328</td>\n",
       "      <td>-0.079804</td>\n",
       "      <td>-0.270984</td>\n",
       "      <td>-0.299024</td>\n",
       "      <td>-0.047799</td>\n",
       "      <td>-0.156935</td>\n",
       "      <td>-0.175154</td>\n",
       "      <td>0.042397</td>\n",
       "      <td>0.146017</td>\n",
       "      <td>0.074029</td>\n",
       "      <td>-0.283345</td>\n",
       "      <td>1.000000</td>\n",
       "    </tr>\n",
       "  </tbody>\n",
       "</table>\n",
       "</div>"
      ],
      "text/plain": [
       "                                        Chub_BIO  CL1_Artificial surfaces  \\\n",
       "Chub_BIO                                1.000000                 0.261430   \n",
       "CL1_Artificial surfaces                 0.261430                 1.000000   \n",
       "SSI                                     0.085997                -0.005526   \n",
       "BW_MORPH                                0.165504                 0.122175   \n",
       "MZB_SAPRO                               0.143203                 0.259991   \n",
       "ZUST_SCHAD = ZUST_SCHADST_EU_2015       0.131053                 0.024699   \n",
       "ZUST_BIO_7 = ZUST_BIOLOGIE_STOFFE_2015  0.182150                 0.166062   \n",
       "LAUFENTWICKLUNG                         0.088531                 0.095971   \n",
       "SUBSTRATZUSAMMENSETZUNG                 0.048613                -0.189610   \n",
       "FIA                                    -0.386005                -0.251162   \n",
       "Chub_corridor_m                        -0.220738                -0.387683   \n",
       "5J_AMP_50_REL_MAXNAT                    0.448390                 0.421268   \n",
       "5J_MAFR_CNT                            -0.261384                -0.351328   \n",
       "\n",
       "                                             SSI  BW_MORPH  MZB_SAPRO  \\\n",
       "Chub_BIO                                0.085997  0.165504   0.143203   \n",
       "CL1_Artificial surfaces                -0.005526  0.122175   0.259991   \n",
       "SSI                                     1.000000  0.308774   0.086686   \n",
       "BW_MORPH                                0.308774  1.000000   0.379584   \n",
       "MZB_SAPRO                               0.086686  0.379584   1.000000   \n",
       "ZUST_SCHAD = ZUST_SCHADST_EU_2015      -0.063399       NaN   0.139773   \n",
       "ZUST_BIO_7 = ZUST_BIOLOGIE_STOFFE_2015  0.112231  0.200858   0.221852   \n",
       "LAUFENTWICKLUNG                        -0.164914  0.067082   0.145032   \n",
       "SUBSTRATZUSAMMENSETZUNG                -0.141465 -0.039393  -0.140083   \n",
       "FIA                                    -0.195856 -0.089231  -0.251307   \n",
       "Chub_corridor_m                        -0.136852 -0.260197  -0.238651   \n",
       "5J_AMP_50_REL_MAXNAT                    0.270942  0.277298   0.225730   \n",
       "5J_MAFR_CNT                            -0.079804 -0.270984  -0.299024   \n",
       "\n",
       "                                        ZUST_SCHAD = ZUST_SCHADST_EU_2015  \\\n",
       "Chub_BIO                                                         0.131053   \n",
       "CL1_Artificial surfaces                                          0.024699   \n",
       "SSI                                                             -0.063399   \n",
       "BW_MORPH                                                              NaN   \n",
       "MZB_SAPRO                                                        0.139773   \n",
       "ZUST_SCHAD = ZUST_SCHADST_EU_2015                                1.000000   \n",
       "ZUST_BIO_7 = ZUST_BIOLOGIE_STOFFE_2015                           0.092820   \n",
       "LAUFENTWICKLUNG                                                  0.179358   \n",
       "SUBSTRATZUSAMMENSETZUNG                                         -0.067785   \n",
       "FIA                                                             -0.072952   \n",
       "Chub_corridor_m                                                 -0.033998   \n",
       "5J_AMP_50_REL_MAXNAT                                            -0.063383   \n",
       "5J_MAFR_CNT                                                     -0.047799   \n",
       "\n",
       "                                        ZUST_BIO_7 = ZUST_BIOLOGIE_STOFFE_2015  \\\n",
       "Chub_BIO                                                              0.182150   \n",
       "CL1_Artificial surfaces                                               0.166062   \n",
       "SSI                                                                   0.112231   \n",
       "BW_MORPH                                                              0.200858   \n",
       "MZB_SAPRO                                                             0.221852   \n",
       "ZUST_SCHAD = ZUST_SCHADST_EU_2015                                     0.092820   \n",
       "ZUST_BIO_7 = ZUST_BIOLOGIE_STOFFE_2015                                1.000000   \n",
       "LAUFENTWICKLUNG                                                       0.165331   \n",
       "SUBSTRATZUSAMMENSETZUNG                                               0.040299   \n",
       "FIA                                                                  -0.209790   \n",
       "Chub_corridor_m                                                      -0.117888   \n",
       "5J_AMP_50_REL_MAXNAT                                                  0.236834   \n",
       "5J_MAFR_CNT                                                          -0.156935   \n",
       "\n",
       "                                        LAUFENTWICKLUNG  \\\n",
       "Chub_BIO                                       0.088531   \n",
       "CL1_Artificial surfaces                        0.095971   \n",
       "SSI                                           -0.164914   \n",
       "BW_MORPH                                       0.067082   \n",
       "MZB_SAPRO                                      0.145032   \n",
       "ZUST_SCHAD = ZUST_SCHADST_EU_2015              0.179358   \n",
       "ZUST_BIO_7 = ZUST_BIOLOGIE_STOFFE_2015         0.165331   \n",
       "LAUFENTWICKLUNG                                1.000000   \n",
       "SUBSTRATZUSAMMENSETZUNG                        0.475179   \n",
       "FIA                                            0.349685   \n",
       "Chub_corridor_m                               -0.127221   \n",
       "5J_AMP_50_REL_MAXNAT                           0.154252   \n",
       "5J_MAFR_CNT                                   -0.175154   \n",
       "\n",
       "                                        SUBSTRATZUSAMMENSETZUNG       FIA  \\\n",
       "Chub_BIO                                               0.048613 -0.386005   \n",
       "CL1_Artificial surfaces                               -0.189610 -0.251162   \n",
       "SSI                                                   -0.141465 -0.195856   \n",
       "BW_MORPH                                              -0.039393 -0.089231   \n",
       "MZB_SAPRO                                             -0.140083 -0.251307   \n",
       "ZUST_SCHAD = ZUST_SCHADST_EU_2015                     -0.067785 -0.072952   \n",
       "ZUST_BIO_7 = ZUST_BIOLOGIE_STOFFE_2015                 0.040299 -0.209790   \n",
       "LAUFENTWICKLUNG                                        0.475179  0.349685   \n",
       "SUBSTRATZUSAMMENSETZUNG                                1.000000  0.337124   \n",
       "FIA                                                    0.337124  1.000000   \n",
       "Chub_corridor_m                                       -0.085878  0.376283   \n",
       "5J_AMP_50_REL_MAXNAT                                  -0.028876 -0.310837   \n",
       "5J_MAFR_CNT                                            0.042397  0.146017   \n",
       "\n",
       "                                        Chub_corridor_m  5J_AMP_50_REL_MAXNAT  \\\n",
       "Chub_BIO                                      -0.220738              0.448390   \n",
       "CL1_Artificial surfaces                       -0.387683              0.421268   \n",
       "SSI                                           -0.136852              0.270942   \n",
       "BW_MORPH                                      -0.260197              0.277298   \n",
       "MZB_SAPRO                                     -0.238651              0.225730   \n",
       "ZUST_SCHAD = ZUST_SCHADST_EU_2015             -0.033998             -0.063383   \n",
       "ZUST_BIO_7 = ZUST_BIOLOGIE_STOFFE_2015        -0.117888              0.236834   \n",
       "LAUFENTWICKLUNG                               -0.127221              0.154252   \n",
       "SUBSTRATZUSAMMENSETZUNG                       -0.085878             -0.028876   \n",
       "FIA                                            0.376283             -0.310837   \n",
       "Chub_corridor_m                                1.000000             -0.347037   \n",
       "5J_AMP_50_REL_MAXNAT                          -0.347037              1.000000   \n",
       "5J_MAFR_CNT                                    0.074029             -0.283345   \n",
       "\n",
       "                                        5J_MAFR_CNT  \n",
       "Chub_BIO                                  -0.261384  \n",
       "CL1_Artificial surfaces                   -0.351328  \n",
       "SSI                                       -0.079804  \n",
       "BW_MORPH                                  -0.270984  \n",
       "MZB_SAPRO                                 -0.299024  \n",
       "ZUST_SCHAD = ZUST_SCHADST_EU_2015         -0.047799  \n",
       "ZUST_BIO_7 = ZUST_BIOLOGIE_STOFFE_2015    -0.156935  \n",
       "LAUFENTWICKLUNG                           -0.175154  \n",
       "SUBSTRATZUSAMMENSETZUNG                    0.042397  \n",
       "FIA                                        0.146017  \n",
       "Chub_corridor_m                            0.074029  \n",
       "5J_AMP_50_REL_MAXNAT                      -0.283345  \n",
       "5J_MAFR_CNT                                1.000000  "
      ]
     },
     "execution_count": 6,
     "metadata": {},
     "output_type": "execute_result"
    }
   ],
   "source": [
    "biomass.corr()"
   ]
  },
  {
   "cell_type": "code",
   "execution_count": 7,
   "id": "90f07447",
   "metadata": {},
   "outputs": [
    {
     "name": "stderr",
     "output_type": "stream",
     "text": [
      "C:\\Users\\benda\\AppData\\Local\\Temp\\ipykernel_2312\\729294388.py:3: FutureWarning: The default value of numeric_only in DataFrame.corr is deprecated. In a future version, it will default to False. Select only valid columns or specify the value of numeric_only to silence this warning.\n",
      "  heatmap = sns.heatmap(biomass.corr(), vmin=-1, vmax=1,cmap='BrBG', annot=True)\n"
     ]
    },
    {
     "data": {
      "text/plain": [
       "Text(0.5, 1.0, 'Correlation Heatmap')"
      ]
     },
     "execution_count": 7,
     "metadata": {},
     "output_type": "execute_result"
    },
    {
     "data": {
      "image/png": "[encoded data removed]",
      "text/plain": [
       "<Figure size 1440x1440 with 2 Axes>"
      ]
     },
     "metadata": {
      "needs_background": "light"
     },
     "output_type": "display_data"
    }
   ],
   "source": [
    "# plot the correlation using a heatmap\n",
    "plt.figure(figsize=(20, 20))\n",
    "heatmap = sns.heatmap(biomass.corr(), vmin=-1, vmax=1,cmap='BrBG', annot=True)\n",
    "heatmap.set_title(\"Correlation Heatmap\")"
   ]
  },
  {
   "cell_type": "markdown",
   "id": "76bb44be",
   "metadata": {},
   "source": [
    "**Important Features:** Based on the correlation matrix, it looks like the most important features in predicting: 'Chub_BIO' are \n",
    "- '5J_AMP_50_REL_MAXNAT'(corr=0.45), \n",
    "- 'FIA'(corr=-0.39), \n",
    "- 'CL1_Artificial surfaces' (corr=0.26), and \n",
    "- 5J_MAFR_CNT (corr=-0.26)\n"
   ]
  },
  {
   "cell_type": "markdown",
   "id": "311380c8",
   "metadata": {},
   "source": [
    "**Collinearity:** The two features \"SUBSTRATZUSAMMENSETZUNG\" and \"LAUFENTWICKLUNG\" are very collinear, with a correlation between them of 0.48. Since \"LAUFENTWICKLUNG\" also has a stronger correlation with the target, I will keep it, and remove the other feature."
   ]
  },
  {
   "cell_type": "code",
   "execution_count": 8,
   "id": "203c341c",
   "metadata": {},
   "outputs": [],
   "source": [
    "bm1 = biomass.drop(\"LAUFENTWICKLUNG\", axis=1) # remove feature from dataframe"
   ]
  },
  {
   "cell_type": "markdown",
   "id": "b3c21771",
   "metadata": {},
   "source": [
    "### Distribution of Data"
   ]
  },
  {
   "cell_type": "code",
   "execution_count": 9,
   "id": "042a0a37",
   "metadata": {},
   "outputs": [
    {
     "data": {
      "image/png": "[encoded data removed]",
      "text/plain": [
       "<Figure size 864x864 with 12 Axes>"
      ]
     },
     "metadata": {
      "needs_background": "light"
     },
     "output_type": "display_data"
    }
   ],
   "source": [
    "# plot numerical variables as histogram\n",
    "bm1.hist(bins=11, figsize=(12, 12));"
   ]
  },
  {
   "cell_type": "markdown",
   "id": "68aa204e",
   "metadata": {},
   "source": [
    "It's clear that \"ZUST_SCHAD = ZUST_SCHADST_EU_2015\" can be removed. Since almost all observations are identical, it will add no value to the model. "
   ]
  },
  {
   "cell_type": "code",
   "execution_count": 10,
   "id": "a9d8267d",
   "metadata": {},
   "outputs": [],
   "source": [
    "bm2 = bm1.drop(\"ZUST_SCHAD = ZUST_SCHADST_EU_2015\", axis=1)"
   ]
  },
  {
   "cell_type": "markdown",
   "id": "8360ae52",
   "metadata": {},
   "source": [
    "**Note on logarithmic transformation:** A lot of the features have a strong right skew. They might need to be logarithmically transformed, if more advanced linear methods are applied. However since not all models need normally distributed data, I will wait until we know which type of model to develop to decide whether to transform them."
   ]
  },
  {
   "cell_type": "markdown",
   "id": "a4637fbd",
   "metadata": {},
   "source": [
    "### Vizualize categorical data"
   ]
  },
  {
   "cell_type": "code",
   "execution_count": 11,
   "id": "4950a6cb",
   "metadata": {
    "scrolled": false
   },
   "outputs": [
    {
     "data": {
      "image/png": "[encoded data removed]",
      "text/plain": [
       "<Figure size 216x144 with 1 Axes>"
      ]
     },
     "metadata": {
      "needs_background": "light"
     },
     "output_type": "display_data"
    },
    {
     "data": {
      "image/png": "[encoded data removed]",
      "text/plain": [
       "<Figure size 216x144 with 1 Axes>"
      ]
     },
     "metadata": {
      "needs_background": "light"
     },
     "output_type": "display_data"
    },
    {
     "data": {
      "image/png": "[encoded data removed]",
      "text/plain": [
       "<Figure size 216x144 with 1 Axes>"
      ]
     },
     "metadata": {
      "needs_background": "light"
     },
     "output_type": "display_data"
    }
   ],
   "source": [
    "# bar plot for visualizing categorical data\n",
    "# select categorical features\n",
    "categorical_columns = bm2.select_dtypes(include=['object']).columns\n",
    "\n",
    "for column in categorical_columns:\n",
    "    plt.figure(figsize=(3, 2))  # Set the size of the plot\n",
    "    sns.countplot(x=column, data=bm2, color='gray')  # Create a countplot\n",
    "    plt.title(f'Countplot for {column}')  # Set the title of the plot\n",
    "    plt.xticks(rotation=45)  # Rotate x-axis labels for better readability\n",
    "    plt.show()"
   ]
  },
  {
   "cell_type": "markdown",
   "id": "07a93674",
   "metadata": {},
   "source": [
    "### Impute missing values"
   ]
  },
  {
   "cell_type": "code",
   "execution_count": 12,
   "id": "6562eefe",
   "metadata": {
    "scrolled": true
   },
   "outputs": [
    {
     "data": {
      "text/plain": [
       "Chub_BIO                                   0\n",
       "Fischregion                                0\n",
       "CL1_Artificial surfaces                    0\n",
       "SSI                                        0\n",
       "BW_MORPH                                  62\n",
       "PHB_SAPRO                                  0\n",
       "MZB_SAPRO                                  0\n",
       "TROPH_ZUST                                 0\n",
       "ZUST_BIO_7 = ZUST_BIOLOGIE_STOFFE_2015     0\n",
       "SUBSTRATZUSAMMENSETZUNG                   28\n",
       "FIA                                        0\n",
       "Chub_corridor_m                            1\n",
       "5J_AMP_50_REL_MAXNAT                       0\n",
       "5J_MAFR_CNT                                0\n",
       "dtype: int64"
      ]
     },
     "execution_count": 12,
     "metadata": {},
     "output_type": "execute_result"
    }
   ],
   "source": [
    "bm2.isna().sum() # check for missing values"
   ]
  },
  {
   "cell_type": "markdown",
   "id": "5e8f441e",
   "metadata": {},
   "source": [
    "**Features with missing values:**\n",
    "\n",
    "- \"Chub_corridor_m\" is missing a single value. We'll just remove that row.\n",
    "\n",
    "The other two features with missing values can be removed because: \n",
    "- \"BW_MORPH\" has nearly 50% missing\n",
    "- \"SUBSTRATZUSAMMENSETZUNG has 25% missing values and little correlation to the target. Since it is also collinear to another feature, some of the information will be retained in the model anyways. But before removing it, we'll check if there is any non-linear correlation to the target."
   ]
  },
  {
   "cell_type": "code",
   "execution_count": 13,
   "id": "26d93166",
   "metadata": {},
   "outputs": [
    {
     "data": {
      "text/plain": [
       "<seaborn.axisgrid.PairGrid at 0x1a1ba117c10>"
      ]
     },
     "execution_count": 13,
     "metadata": {},
     "output_type": "execute_result"
    },
    {
     "data": {
      "image/png": "[encoded data removed]",
      "text/plain": [
       "<Figure size 360x360 with 6 Axes>"
      ]
     },
     "metadata": {
      "needs_background": "light"
     },
     "output_type": "display_data"
    }
   ],
   "source": [
    "sns.pairplot(bm2.loc[:,[\"Chub_BIO\", \"SUBSTRATZUSAMMENSETZUNG\"]])"
   ]
  },
  {
   "cell_type": "markdown",
   "id": "a0aa8e98",
   "metadata": {},
   "source": [
    "Since the pairplot also shows little correlation with the target, I will remove the feature \"SUBSTRATZUSAMMENSETZUNG\"."
   ]
  },
  {
   "cell_type": "code",
   "execution_count": 14,
   "id": "83413fd0",
   "metadata": {},
   "outputs": [],
   "source": [
    "# remove the two features\n",
    "bm3 = bm2.drop([\"BW_MORPH\", \"SUBSTRATZUSAMMENSETZUNG\"], axis=1)\n",
    "# remove the row, where \"Chub_corridor_m\" has a missing value\n",
    "bm3 = bm3.loc[biomass.Chub_corridor_m.notna(),:]"
   ]
  },
  {
   "cell_type": "markdown",
   "id": "1d075306",
   "metadata": {},
   "source": [
    "### Recode Categorical Variables\n",
    "to improve linear regression the categorical variables will be encoded as binary dummy variables."
   ]
  },
  {
   "cell_type": "code",
   "execution_count": 15,
   "id": "46317e29",
   "metadata": {},
   "outputs": [
    {
     "name": "stdout",
     "output_type": "stream",
     "text": [
      "['Fischregion', 'PHB_SAPRO', 'TROPH_ZUST']\n"
     ]
    }
   ],
   "source": [
    "# create list of categorical columns\n",
    "categorical_data = bm3.select_dtypes(include='object')\n",
    "categorical_labels = list(categorical_data.columns)\n",
    "print(categorical_labels)"
   ]
  },
  {
   "cell_type": "code",
   "execution_count": 16,
   "id": "a0fa1d01",
   "metadata": {},
   "outputs": [],
   "source": [
    "# Encode categorical features as dummy variables and remove original variables\n",
    "bm4 = pd.get_dummies(bm3)"
   ]
  },
  {
   "cell_type": "code",
   "execution_count": 17,
   "id": "57ba99a2",
   "metadata": {
    "scrolled": false
   },
   "outputs": [
    {
     "data": {
      "text/html": [
       "<div>\n",
       "<style scoped>\n",
       "    .dataframe tbody tr th:only-of-type {\n",
       "        vertical-align: middle;\n",
       "    }\n",
       "\n",
       "    .dataframe tbody tr th {\n",
       "        vertical-align: top;\n",
       "    }\n",
       "\n",
       "    .dataframe thead th {\n",
       "        text-align: right;\n",
       "    }\n",
       "</style>\n",
       "<table border=\"1\" class=\"dataframe\">\n",
       "  <thead>\n",
       "    <tr style=\"text-align: right;\">\n",
       "      <th></th>\n",
       "      <th>Chub_BIO</th>\n",
       "      <th>CL1_Artificial surfaces</th>\n",
       "      <th>SSI</th>\n",
       "      <th>MZB_SAPRO</th>\n",
       "      <th>ZUST_BIO_7 = ZUST_BIOLOGIE_STOFFE_2015</th>\n",
       "      <th>FIA</th>\n",
       "      <th>Chub_corridor_m</th>\n",
       "      <th>5J_AMP_50_REL_MAXNAT</th>\n",
       "      <th>5J_MAFR_CNT</th>\n",
       "      <th>Fischregion_Epipomatal</th>\n",
       "      <th>Fischregion_Hyporhithral</th>\n",
       "      <th>PHB_SAPRO_I-II A</th>\n",
       "      <th>PHB_SAPRO_I-II B</th>\n",
       "      <th>PHB_SAPRO_II</th>\n",
       "      <th>TROPH_ZUST_me1</th>\n",
       "      <th>TROPH_ZUST_me2</th>\n",
       "      <th>TROPH_ZUST_mt</th>\n",
       "      <th>TROPH_ZUST_om</th>\n",
       "      <th>TROPH_ZUST_ot</th>\n",
       "    </tr>\n",
       "  </thead>\n",
       "  <tbody>\n",
       "    <tr>\n",
       "      <th>0</th>\n",
       "      <td>0.00</td>\n",
       "      <td>0.070794</td>\n",
       "      <td>1.007143</td>\n",
       "      <td>1.50</td>\n",
       "      <td>2</td>\n",
       "      <td>5.0</td>\n",
       "      <td>9429.460433</td>\n",
       "      <td>0.279878</td>\n",
       "      <td>6128</td>\n",
       "      <td>0</td>\n",
       "      <td>1</td>\n",
       "      <td>0</td>\n",
       "      <td>1</td>\n",
       "      <td>0</td>\n",
       "      <td>0</td>\n",
       "      <td>0</td>\n",
       "      <td>1</td>\n",
       "      <td>0</td>\n",
       "      <td>0</td>\n",
       "    </tr>\n",
       "    <tr>\n",
       "      <th>1</th>\n",
       "      <td>0.00</td>\n",
       "      <td>0.051312</td>\n",
       "      <td>1.041361</td>\n",
       "      <td>1.75</td>\n",
       "      <td>2</td>\n",
       "      <td>5.0</td>\n",
       "      <td>30268.862880</td>\n",
       "      <td>0.238242</td>\n",
       "      <td>1623</td>\n",
       "      <td>0</td>\n",
       "      <td>1</td>\n",
       "      <td>0</td>\n",
       "      <td>1</td>\n",
       "      <td>0</td>\n",
       "      <td>1</td>\n",
       "      <td>0</td>\n",
       "      <td>0</td>\n",
       "      <td>0</td>\n",
       "      <td>0</td>\n",
       "    </tr>\n",
       "    <tr>\n",
       "      <th>2</th>\n",
       "      <td>0.00</td>\n",
       "      <td>0.040292</td>\n",
       "      <td>1.121244</td>\n",
       "      <td>1.50</td>\n",
       "      <td>2</td>\n",
       "      <td>4.0</td>\n",
       "      <td>79230.114260</td>\n",
       "      <td>0.266632</td>\n",
       "      <td>4711</td>\n",
       "      <td>0</td>\n",
       "      <td>1</td>\n",
       "      <td>0</td>\n",
       "      <td>1</td>\n",
       "      <td>0</td>\n",
       "      <td>0</td>\n",
       "      <td>0</td>\n",
       "      <td>0</td>\n",
       "      <td>1</td>\n",
       "      <td>0</td>\n",
       "    </tr>\n",
       "    <tr>\n",
       "      <th>3</th>\n",
       "      <td>0.00</td>\n",
       "      <td>0.040292</td>\n",
       "      <td>1.042523</td>\n",
       "      <td>1.75</td>\n",
       "      <td>2</td>\n",
       "      <td>5.0</td>\n",
       "      <td>79230.114260</td>\n",
       "      <td>0.271759</td>\n",
       "      <td>4003</td>\n",
       "      <td>0</td>\n",
       "      <td>1</td>\n",
       "      <td>0</td>\n",
       "      <td>1</td>\n",
       "      <td>0</td>\n",
       "      <td>0</td>\n",
       "      <td>0</td>\n",
       "      <td>0</td>\n",
       "      <td>1</td>\n",
       "      <td>0</td>\n",
       "    </tr>\n",
       "    <tr>\n",
       "      <th>4</th>\n",
       "      <td>0.01</td>\n",
       "      <td>0.040292</td>\n",
       "      <td>1.129526</td>\n",
       "      <td>1.75</td>\n",
       "      <td>2</td>\n",
       "      <td>5.0</td>\n",
       "      <td>79230.114260</td>\n",
       "      <td>0.271759</td>\n",
       "      <td>4004</td>\n",
       "      <td>0</td>\n",
       "      <td>1</td>\n",
       "      <td>0</td>\n",
       "      <td>1</td>\n",
       "      <td>0</td>\n",
       "      <td>0</td>\n",
       "      <td>0</td>\n",
       "      <td>0</td>\n",
       "      <td>1</td>\n",
       "      <td>0</td>\n",
       "    </tr>\n",
       "  </tbody>\n",
       "</table>\n",
       "</div>"
      ],
      "text/plain": [
       "   Chub_BIO  CL1_Artificial surfaces       SSI  MZB_SAPRO  \\\n",
       "0      0.00                 0.070794  1.007143       1.50   \n",
       "1      0.00                 0.051312  1.041361       1.75   \n",
       "2      0.00                 0.040292  1.121244       1.50   \n",
       "3      0.00                 0.040292  1.042523       1.75   \n",
       "4      0.01                 0.040292  1.129526       1.75   \n",
       "\n",
       "   ZUST_BIO_7 = ZUST_BIOLOGIE_STOFFE_2015  FIA  Chub_corridor_m  \\\n",
       "0                                       2  5.0      9429.460433   \n",
       "1                                       2  5.0     30268.862880   \n",
       "2                                       2  4.0     79230.114260   \n",
       "3                                       2  5.0     79230.114260   \n",
       "4                                       2  5.0     79230.114260   \n",
       "\n",
       "   5J_AMP_50_REL_MAXNAT  5J_MAFR_CNT  Fischregion_Epipomatal  \\\n",
       "0              0.279878         6128                       0   \n",
       "1              0.238242         1623                       0   \n",
       "2              0.266632         4711                       0   \n",
       "3              0.271759         4003                       0   \n",
       "4              0.271759         4004                       0   \n",
       "\n",
       "   Fischregion_Hyporhithral  PHB_SAPRO_I-II A  PHB_SAPRO_I-II B  PHB_SAPRO_II  \\\n",
       "0                         1                 0                 1             0   \n",
       "1                         1                 0                 1             0   \n",
       "2                         1                 0                 1             0   \n",
       "3                         1                 0                 1             0   \n",
       "4                         1                 0                 1             0   \n",
       "\n",
       "   TROPH_ZUST_me1  TROPH_ZUST_me2  TROPH_ZUST_mt  TROPH_ZUST_om  TROPH_ZUST_ot  \n",
       "0               0               0              1              0              0  \n",
       "1               1               0              0              0              0  \n",
       "2               0               0              0              1              0  \n",
       "3               0               0              0              1              0  \n",
       "4               0               0              0              1              0  "
      ]
     },
     "execution_count": 17,
     "metadata": {},
     "output_type": "execute_result"
    }
   ],
   "source": [
    "# look at new features\n",
    "bm4.head()"
   ]
  },
  {
   "cell_type": "markdown",
   "id": "f40c34af",
   "metadata": {},
   "source": [
    "### Summary of EDA\n",
    "Few features seem to be normally distributed; this means that transformations could improve linear models, and even become necessary enable use of more complex linear models like Ridge Regression or Lasso. \n",
    "\n",
    "3 features were removed: \n",
    "- 2 because of large amounts of missing data\n",
    "- 1 because nearly all values were identical\n",
    "\n",
    "**Analysis Strategy:** Since the aim is to develop the most accurate prediction, I will compare the estimated test error of multiple base models using cross validation on the training set. This will give an idea on which model to choose for finetuning: I will finetune model with the best score (Mean Squared Error). After training this final model, I will calculate the real test error on the test set to evaluate performance on new data."
   ]
  },
  {
   "cell_type": "markdown",
   "id": "85228b3c",
   "metadata": {},
   "source": [
    "# Model training\n"
   ]
  },
  {
   "cell_type": "code",
   "execution_count": 18,
   "id": "e35ba356",
   "metadata": {},
   "outputs": [],
   "source": [
    "from sklearn.linear_model import LinearRegression\n",
    "from sklearn.model_selection import (cross_val_score,\n",
    "                                     GridSearchCV,\n",
    "                                    train_test_split)\n",
    "from sklearn.tree import DecisionTreeRegressor as DTR\n",
    "from sklearn.ensemble import (RandomForestRegressor as RFR,\n",
    "                             AdaBoostRegressor as ADA,\n",
    "                             GradientBoostingRegressor as GBR)\n",
    "from sklearn.metrics import mean_squared_error\n",
    "from sklearn.preprocessing import Normalizer"
   ]
  },
  {
   "cell_type": "markdown",
   "id": "18a3dd3e",
   "metadata": {},
   "source": [
    "### Split Data"
   ]
  },
  {
   "cell_type": "code",
   "execution_count": 19,
   "id": "ce895071",
   "metadata": {},
   "outputs": [],
   "source": [
    "bm5 = bm4.copy() \n",
    "\n",
    "y = bm5[\"Chub_BIO\"]\n",
    "X = bm5.drop(\"Chub_BIO\", axis=1)\n",
    "X_train, X_test, y_train, y_test = train_test_split(X, y, test_size=0.2, random_state=42)"
   ]
  },
  {
   "cell_type": "markdown",
   "id": "900d5e83",
   "metadata": {},
   "source": [
    "The training set has 91 samples and 18 attributes.  \n",
    "The test set has 23 samples and 18 attributes."
   ]
  },
  {
   "cell_type": "markdown",
   "id": "4cc6e7c4",
   "metadata": {},
   "source": [
    "### Multilinear Regression"
   ]
  },
  {
   "cell_type": "code",
   "execution_count": 20,
   "id": "3e7cb172",
   "metadata": {},
   "outputs": [
    {
     "data": {
      "text/plain": [
       "2813.5259668306426"
      ]
     },
     "execution_count": 20,
     "metadata": {},
     "output_type": "execute_result"
    }
   ],
   "source": [
    "# estimate the test error of the multilinear model\n",
    "lm = LinearRegression()\n",
    "-cross_val_score(lm, X_train, y_train, scoring='neg_mean_squared_error', cv=10).sum()/10"
   ]
  },
  {
   "cell_type": "markdown",
   "id": "5e649a95",
   "metadata": {},
   "source": [
    "### Decision Tree"
   ]
  },
  {
   "cell_type": "code",
   "execution_count": 21,
   "id": "005d3be0",
   "metadata": {
    "scrolled": true
   },
   "outputs": [
    {
     "data": {
      "text/plain": [
       "3318.7657664888893"
      ]
     },
     "execution_count": 21,
     "metadata": {},
     "output_type": "execute_result"
    }
   ],
   "source": [
    "# estimate the test error of a basic Decision Tree Model\n",
    "dt = DTR(random_state=42)\n",
    "-cross_val_score(dt, X_train, y_train, scoring='neg_mean_squared_error', cv=10).sum()/10"
   ]
  },
  {
   "cell_type": "markdown",
   "id": "0c4377af",
   "metadata": {},
   "source": [
    "### Random Forest\n"
   ]
  },
  {
   "cell_type": "code",
   "execution_count": 22,
   "id": "e70aeea7",
   "metadata": {},
   "outputs": [
    {
     "data": {
      "text/plain": [
       "2460.1840555830495"
      ]
     },
     "execution_count": 22,
     "metadata": {},
     "output_type": "execute_result"
    }
   ],
   "source": [
    "# estimate the test error of a Random Forest Model\n",
    "rf = RFR(random_state=42)\n",
    "-cross_val_score(rf, X_train, y_train, scoring='neg_mean_squared_error', cv=10).sum()/10"
   ]
  },
  {
   "cell_type": "markdown",
   "id": "b631ff67",
   "metadata": {},
   "source": [
    "### Gradient Boosting"
   ]
  },
  {
   "cell_type": "code",
   "execution_count": 23,
   "id": "bc9c5874",
   "metadata": {},
   "outputs": [
    {
     "data": {
      "text/plain": [
       "2685.8869596836685"
      ]
     },
     "execution_count": 23,
     "metadata": {},
     "output_type": "execute_result"
    }
   ],
   "source": [
    "# estimate the test error of a Gradient Boosting Model\n",
    "gb = GBR(random_state=42)\n",
    "-cross_val_score(gb, X_train, y_train, scoring='neg_mean_squared_error', cv=10).sum()/10"
   ]
  },
  {
   "cell_type": "markdown",
   "id": "e4522807",
   "metadata": {},
   "source": [
    "### AdaBoost"
   ]
  },
  {
   "cell_type": "code",
   "execution_count": 24,
   "id": "cd249daf",
   "metadata": {},
   "outputs": [
    {
     "data": {
      "text/plain": [
       "2940.48751384636"
      ]
     },
     "execution_count": 24,
     "metadata": {},
     "output_type": "execute_result"
    }
   ],
   "source": [
    "# estimate the test error using an AdaBoost Model\n",
    "ada = ADA(random_state=42)\n",
    "-cross_val_score(ada, X_train, y_train, scoring='neg_mean_squared_error', cv=10).sum()/10"
   ]
  },
  {
   "cell_type": "markdown",
   "id": "d551127e",
   "metadata": {},
   "source": [
    "### Finetuning Best Model\n",
    "Since the Random Forest Model gives the best estimated test error, I will fine tune this model using Grid Search. Also since we are using Random Forest there is no need to transform the exponentially distributed features and target. There is also no need to normalize the data."
   ]
  },
  {
   "cell_type": "code",
   "execution_count": 25,
   "id": "2de2587b",
   "metadata": {},
   "outputs": [],
   "source": [
    "rf = RFR()\n",
    "\n",
    "parameters = {'n_estimators': [200, 300, 500],\n",
    "              'max_features': ['sqrt', 'log2', None],\n",
    "              'max_depth' : [4,5,6,7,8]\n",
    "}\n",
    "\n",
    "clf = GridSearchCV(rf, parameters, scoring='neg_mean_squared_error', cv=5)"
   ]
  },
  {
   "cell_type": "code",
   "execution_count": 26,
   "id": "05836f70",
   "metadata": {
    "scrolled": true
   },
   "outputs": [
    {
     "data": {
      "text/html": [
       "<style>#sk-container-id-1 {color: black;background-color: white;}#sk-container-id-1 pre{padding: 0;}#sk-container-id-1 div.sk-toggleable {background-color: white;}#sk-container-id-1 label.sk-toggleable__label {cursor: pointer;display: block;width: 100%;margin-bottom: 0;padding: 0.3em;box-sizing: border-box;text-align: center;}#sk-container-id-1 label.sk-toggleable__label-arrow:before {content: \"▸\";float: left;margin-right: 0.25em;color: #696969;}#sk-container-id-1 label.sk-toggleable__label-arrow:hover:before {color: black;}#sk-container-id-1 div.sk-estimator:hover label.sk-toggleable__label-arrow:before {color: black;}#sk-container-id-1 div.sk-toggleable__content {max-height: 0;max-width: 0;overflow: hidden;text-align: left;background-color: #f0f8ff;}#sk-container-id-1 div.sk-toggleable__content pre {margin: 0.2em;color: black;border-radius: 0.25em;background-color: #f0f8ff;}#sk-container-id-1 input.sk-toggleable__control:checked~div.sk-toggleable__content {max-height: 200px;max-width: 100%;overflow: auto;}#sk-container-id-1 input.sk-toggleable__control:checked~label.sk-toggleable__label-arrow:before {content: \"▾\";}#sk-container-id-1 div.sk-estimator input.sk-toggleable__control:checked~label.sk-toggleable__label {background-color: #d4ebff;}#sk-container-id-1 div.sk-label input.sk-toggleable__control:checked~label.sk-toggleable__label {background-color: #d4ebff;}#sk-container-id-1 input.sk-hidden--visually {border: 0;clip: rect(1px 1px 1px 1px);clip: rect(1px, 1px, 1px, 1px);height: 1px;margin: -1px;overflow: hidden;padding: 0;position: absolute;width: 1px;}#sk-container-id-1 div.sk-estimator {font-family: monospace;background-color: #f0f8ff;border: 1px dotted black;border-radius: 0.25em;box-sizing: border-box;margin-bottom: 0.5em;}#sk-container-id-1 div.sk-estimator:hover {background-color: #d4ebff;}#sk-container-id-1 div.sk-parallel-item::after {content: \"\";width: 100%;border-bottom: 1px solid gray;flex-grow: 1;}#sk-container-id-1 div.sk-label:hover label.sk-toggleable__label {background-color: #d4ebff;}#sk-container-id-1 div.sk-serial::before {content: \"\";position: absolute;border-left: 1px solid gray;box-sizing: border-box;top: 0;bottom: 0;left: 50%;z-index: 0;}#sk-container-id-1 div.sk-serial {display: flex;flex-direction: column;align-items: center;background-color: white;padding-right: 0.2em;padding-left: 0.2em;position: relative;}#sk-container-id-1 div.sk-item {position: relative;z-index: 1;}#sk-container-id-1 div.sk-parallel {display: flex;align-items: stretch;justify-content: center;background-color: white;position: relative;}#sk-container-id-1 div.sk-item::before, #sk-container-id-1 div.sk-parallel-item::before {content: \"\";position: absolute;border-left: 1px solid gray;box-sizing: border-box;top: 0;bottom: 0;left: 50%;z-index: -1;}#sk-container-id-1 div.sk-parallel-item {display: flex;flex-direction: column;z-index: 1;position: relative;background-color: white;}#sk-container-id-1 div.sk-parallel-item:first-child::after {align-self: flex-end;width: 50%;}#sk-container-id-1 div.sk-parallel-item:last-child::after {align-self: flex-start;width: 50%;}#sk-container-id-1 div.sk-parallel-item:only-child::after {width: 0;}#sk-container-id-1 div.sk-dashed-wrapped {border: 1px dashed gray;margin: 0 0.4em 0.5em 0.4em;box-sizing: border-box;padding-bottom: 0.4em;background-color: white;}#sk-container-id-1 div.sk-label label {font-family: monospace;font-weight: bold;display: inline-block;line-height: 1.2em;}#sk-container-id-1 div.sk-label-container {text-align: center;}#sk-container-id-1 div.sk-container {/* jupyter's `normalize.less` sets `[hidden] { display: none; }` but bootstrap.min.css set `[hidden] { display: none !important; }` so we also need the `!important` here to be able to override the default hidden behavior on the sphinx rendered scikit-learn.org. See: https://github.com/scikit-learn/scikit-learn/issues/21755 */display: inline-block !important;position: relative;}#sk-container-id-1 div.sk-text-repr-fallback {display: none;}</style><div id=\"sk-container-id-1\" class=\"sk-top-container\"><div class=\"sk-text-repr-fallback\"><pre>GridSearchCV(cv=5, estimator=RandomForestRegressor(),\n",
       "             param_grid={&#x27;max_depth&#x27;: [4, 5, 6, 7, 8],\n",
       "                         &#x27;max_features&#x27;: [&#x27;sqrt&#x27;, &#x27;log2&#x27;, None],\n",
       "                         &#x27;n_estimators&#x27;: [200, 300, 500]},\n",
       "             scoring=&#x27;neg_mean_squared_error&#x27;)</pre><b>In a Jupyter environment, please rerun this cell to show the HTML representation or trust the notebook. <br />On GitHub, the HTML representation is unable to render, please try loading this page with nbviewer.org.</b></div><div class=\"sk-container\" hidden><div class=\"sk-item sk-dashed-wrapped\"><div class=\"sk-label-container\"><div class=\"sk-label sk-toggleable\"><input class=\"sk-toggleable__control sk-hidden--visually\" id=\"sk-estimator-id-1\" type=\"checkbox\" ><label for=\"sk-estimator-id-1\" class=\"sk-toggleable__label sk-toggleable__label-arrow\">GridSearchCV</label><div class=\"sk-toggleable__content\"><pre>GridSearchCV(cv=5, estimator=RandomForestRegressor(),\n",
       "             param_grid={&#x27;max_depth&#x27;: [4, 5, 6, 7, 8],\n",
       "                         &#x27;max_features&#x27;: [&#x27;sqrt&#x27;, &#x27;log2&#x27;, None],\n",
       "                         &#x27;n_estimators&#x27;: [200, 300, 500]},\n",
       "             scoring=&#x27;neg_mean_squared_error&#x27;)</pre></div></div></div><div class=\"sk-parallel\"><div class=\"sk-parallel-item\"><div class=\"sk-item\"><div class=\"sk-label-container\"><div class=\"sk-label sk-toggleable\"><input class=\"sk-toggleable__control sk-hidden--visually\" id=\"sk-estimator-id-2\" type=\"checkbox\" ><label for=\"sk-estimator-id-2\" class=\"sk-toggleable__label sk-toggleable__label-arrow\">estimator: RandomForestRegressor</label><div class=\"sk-toggleable__content\"><pre>RandomForestRegressor()</pre></div></div></div><div class=\"sk-serial\"><div class=\"sk-item\"><div class=\"sk-estimator sk-toggleable\"><input class=\"sk-toggleable__control sk-hidden--visually\" id=\"sk-estimator-id-3\" type=\"checkbox\" ><label for=\"sk-estimator-id-3\" class=\"sk-toggleable__label sk-toggleable__label-arrow\">RandomForestRegressor</label><div class=\"sk-toggleable__content\"><pre>RandomForestRegressor()</pre></div></div></div></div></div></div></div></div></div></div>"
      ],
      "text/plain": [
       "GridSearchCV(cv=5, estimator=RandomForestRegressor(),\n",
       "             param_grid={'max_depth': [4, 5, 6, 7, 8],\n",
       "                         'max_features': ['sqrt', 'log2', None],\n",
       "                         'n_estimators': [200, 300, 500]},\n",
       "             scoring='neg_mean_squared_error')"
      ]
     },
     "execution_count": 26,
     "metadata": {},
     "output_type": "execute_result"
    }
   ],
   "source": [
    "clf.fit(X_train, y_train)"
   ]
  },
  {
   "cell_type": "markdown",
   "id": "9ab9b787",
   "metadata": {},
   "source": [
    "### Results and Analysis"
   ]
  },
  {
   "cell_type": "code",
   "execution_count": 27,
   "id": "7ed96095",
   "metadata": {},
   "outputs": [
    {
     "data": {
      "text/html": [
       "<style>#sk-container-id-2 {color: black;background-color: white;}#sk-container-id-2 pre{padding: 0;}#sk-container-id-2 div.sk-toggleable {background-color: white;}#sk-container-id-2 label.sk-toggleable__label {cursor: pointer;display: block;width: 100%;margin-bottom: 0;padding: 0.3em;box-sizing: border-box;text-align: center;}#sk-container-id-2 label.sk-toggleable__label-arrow:before {content: \"▸\";float: left;margin-right: 0.25em;color: #696969;}#sk-container-id-2 label.sk-toggleable__label-arrow:hover:before {color: black;}#sk-container-id-2 div.sk-estimator:hover label.sk-toggleable__label-arrow:before {color: black;}#sk-container-id-2 div.sk-toggleable__content {max-height: 0;max-width: 0;overflow: hidden;text-align: left;background-color: #f0f8ff;}#sk-container-id-2 div.sk-toggleable__content pre {margin: 0.2em;color: black;border-radius: 0.25em;background-color: #f0f8ff;}#sk-container-id-2 input.sk-toggleable__control:checked~div.sk-toggleable__content {max-height: 200px;max-width: 100%;overflow: auto;}#sk-container-id-2 input.sk-toggleable__control:checked~label.sk-toggleable__label-arrow:before {content: \"▾\";}#sk-container-id-2 div.sk-estimator input.sk-toggleable__control:checked~label.sk-toggleable__label {background-color: #d4ebff;}#sk-container-id-2 div.sk-label input.sk-toggleable__control:checked~label.sk-toggleable__label {background-color: #d4ebff;}#sk-container-id-2 input.sk-hidden--visually {border: 0;clip: rect(1px 1px 1px 1px);clip: rect(1px, 1px, 1px, 1px);height: 1px;margin: -1px;overflow: hidden;padding: 0;position: absolute;width: 1px;}#sk-container-id-2 div.sk-estimator {font-family: monospace;background-color: #f0f8ff;border: 1px dotted black;border-radius: 0.25em;box-sizing: border-box;margin-bottom: 0.5em;}#sk-container-id-2 div.sk-estimator:hover {background-color: #d4ebff;}#sk-container-id-2 div.sk-parallel-item::after {content: \"\";width: 100%;border-bottom: 1px solid gray;flex-grow: 1;}#sk-container-id-2 div.sk-label:hover label.sk-toggleable__label {background-color: #d4ebff;}#sk-container-id-2 div.sk-serial::before {content: \"\";position: absolute;border-left: 1px solid gray;box-sizing: border-box;top: 0;bottom: 0;left: 50%;z-index: 0;}#sk-container-id-2 div.sk-serial {display: flex;flex-direction: column;align-items: center;background-color: white;padding-right: 0.2em;padding-left: 0.2em;position: relative;}#sk-container-id-2 div.sk-item {position: relative;z-index: 1;}#sk-container-id-2 div.sk-parallel {display: flex;align-items: stretch;justify-content: center;background-color: white;position: relative;}#sk-container-id-2 div.sk-item::before, #sk-container-id-2 div.sk-parallel-item::before {content: \"\";position: absolute;border-left: 1px solid gray;box-sizing: border-box;top: 0;bottom: 0;left: 50%;z-index: -1;}#sk-container-id-2 div.sk-parallel-item {display: flex;flex-direction: column;z-index: 1;position: relative;background-color: white;}#sk-container-id-2 div.sk-parallel-item:first-child::after {align-self: flex-end;width: 50%;}#sk-container-id-2 div.sk-parallel-item:last-child::after {align-self: flex-start;width: 50%;}#sk-container-id-2 div.sk-parallel-item:only-child::after {width: 0;}#sk-container-id-2 div.sk-dashed-wrapped {border: 1px dashed gray;margin: 0 0.4em 0.5em 0.4em;box-sizing: border-box;padding-bottom: 0.4em;background-color: white;}#sk-container-id-2 div.sk-label label {font-family: monospace;font-weight: bold;display: inline-block;line-height: 1.2em;}#sk-container-id-2 div.sk-label-container {text-align: center;}#sk-container-id-2 div.sk-container {/* jupyter's `normalize.less` sets `[hidden] { display: none; }` but bootstrap.min.css set `[hidden] { display: none !important; }` so we also need the `!important` here to be able to override the default hidden behavior on the sphinx rendered scikit-learn.org. See: https://github.com/scikit-learn/scikit-learn/issues/21755 */display: inline-block !important;position: relative;}#sk-container-id-2 div.sk-text-repr-fallback {display: none;}</style><div id=\"sk-container-id-2\" class=\"sk-top-container\"><div class=\"sk-text-repr-fallback\"><pre>RandomForestRegressor(max_depth=5, max_features=&#x27;log2&#x27;, n_estimators=300)</pre><b>In a Jupyter environment, please rerun this cell to show the HTML representation or trust the notebook. <br />On GitHub, the HTML representation is unable to render, please try loading this page with nbviewer.org.</b></div><div class=\"sk-container\" hidden><div class=\"sk-item\"><div class=\"sk-estimator sk-toggleable\"><input class=\"sk-toggleable__control sk-hidden--visually\" id=\"sk-estimator-id-4\" type=\"checkbox\" checked><label for=\"sk-estimator-id-4\" class=\"sk-toggleable__label sk-toggleable__label-arrow\">RandomForestRegressor</label><div class=\"sk-toggleable__content\"><pre>RandomForestRegressor(max_depth=5, max_features=&#x27;log2&#x27;, n_estimators=300)</pre></div></div></div></div></div>"
      ],
      "text/plain": [
       "RandomForestRegressor(max_depth=5, max_features='log2', n_estimators=300)"
      ]
     },
     "execution_count": 27,
     "metadata": {},
     "output_type": "execute_result"
    }
   ],
   "source": [
    "# best parameters for Random Forest Model\n",
    "clf.best_estimator_"
   ]
  },
  {
   "cell_type": "code",
   "execution_count": 28,
   "id": "dc408a85",
   "metadata": {},
   "outputs": [
    {
     "name": "stdout",
     "output_type": "stream",
     "text": [
      "Mean Squared Error of best Random Forest Estimator is:  2267.762333010481\n"
     ]
    }
   ],
   "source": [
    "print(\"Mean Squared Error of best Random Forest Estimator is: \", -clf.best_score_) "
   ]
  },
  {
   "cell_type": "code",
   "execution_count": 29,
   "id": "d427a4d5",
   "metadata": {},
   "outputs": [],
   "source": [
    "# calculate test error\n",
    "y_pred = clf.predict(X_test)"
   ]
  },
  {
   "cell_type": "code",
   "execution_count": 30,
   "id": "04ce7f99",
   "metadata": {},
   "outputs": [
    {
     "name": "stdout",
     "output_type": "stream",
     "text": [
      "Mean Squared Error of tuned Random Forest on test data:  2317.8045507310608\n"
     ]
    }
   ],
   "source": [
    "print(\"Mean Squared Error of tuned Random Forest on test data: \", mean_squared_error(y_test, y_pred))"
   ]
  },
  {
   "cell_type": "code",
   "execution_count": 31,
   "id": "03685bff",
   "metadata": {},
   "outputs": [
    {
     "name": "stdout",
     "output_type": "stream",
     "text": [
      "Mean Squared Error of basic Random Forest on test data:  3482.92131482647\n"
     ]
    }
   ],
   "source": [
    "rf.fit(X_train, y_train)\n",
    "y_pred = rf.predict(X_test)\n",
    "print(\"Mean Squared Error of basic Random Forest on test data: \", mean_squared_error(y_test, y_pred))"
   ]
  },
  {
   "cell_type": "markdown",
   "id": "d04061a9",
   "metadata": {},
   "source": [
    "**Feature Importance**\n",
    "Random Forests are not intuitive for Inferrence of feature importance. I will normalize the data and run a linear model to find the most important features. I decided to normalize rather than standardize the data, since the distribution of most columns is not normal."
   ]
  },
  {
   "cell_type": "code",
   "execution_count": 32,
   "id": "1a86b35d",
   "metadata": {},
   "outputs": [],
   "source": [
    "# Normalize data\n",
    "bm5_norm = Normalizer().fit_transform(bm5)\n",
    "X_norm = bm5_norm[:,1:]\n",
    "y_norm = bm5_norm[:,0]"
   ]
  },
  {
   "cell_type": "code",
   "execution_count": 33,
   "id": "7888f149",
   "metadata": {},
   "outputs": [
    {
     "data": {
      "text/plain": [
       "TROPH_ZUST_om                            -156.231931\n",
       "SSI                                      -123.166781\n",
       "FIA                                       -78.237445\n",
       "ZUST_BIO_7 = ZUST_BIOLOGIE_STOFFE_2015    -31.393109\n",
       "PHB_SAPRO_II                              -26.870764\n",
       "Chub_corridor_m                            -0.113990\n",
       "5J_MAFR_CNT                                -0.078099\n",
       "PHB_SAPRO_I-II B                           60.832188\n",
       "TROPH_ZUST_me2                             61.251178\n",
       "TROPH_ZUST_mt                              75.415045\n",
       "TROPH_ZUST_ot                              84.232325\n",
       "Fischregion_Hyporhithral                   96.061458\n",
       "Fischregion_Epipomatal                    103.723130\n",
       "TROPH_ZUST_me1                            135.117972\n",
       "5J_AMP_50_REL_MAXNAT                      150.501993\n",
       "PHB_SAPRO_I-II A                          165.823164\n",
       "MZB_SAPRO                                 178.528449\n",
       "CL1_Artificial surfaces                   181.111743\n",
       "dtype: float64"
      ]
     },
     "execution_count": 33,
     "metadata": {},
     "output_type": "execute_result"
    }
   ],
   "source": [
    "# feature importance\n",
    "lm = LinearRegression()\n",
    "lm.fit(X_norm, y_norm)\n",
    "coef_labels = pd.Series(lm.coef_, X_train.columns)\n",
    "coef_labels.sort_values()"
   ]
  },
  {
   "cell_type": "markdown",
   "id": "e2ab3823",
   "metadata": {},
   "source": [
    "This shows which features have the highest impact on the model: the features that have the largest absolute coefficients: \n",
    "- CL1_Artificial surfaces\n",
    "- MZB_SAPRO\n",
    "- PHB_SAPRO_I-II A\n",
    "- TROPH_ZUST_om\n",
    "- 5J_AMP_50_REL_MAXNAT\n",
    "\n",
    "Only two of these features showed significance when looking at the correlation heat map. This as well as the scatterplots above, suggest that the relationships between the other features and the target are more complex (interactions, polynomials). Using polynomial regression could improve upon the feature analysis."
   ]
  },
  {
   "cell_type": "markdown",
   "id": "82d31daa",
   "metadata": {},
   "source": [
    "### Discussion\n",
    "As expected more complex models performed better than linear regression. Hyperparameter tuning gave us the final best parameters for RandomForest:\n",
    "- max_depth=4 \n",
    "- max_features='sqrt'\n",
    "- n_estimators=200  \n",
    "\n",
    "This model improved upon training error compared to the basic Random Forest Model by nearly 10%. Although the test error of the final model is 15% higher than the training error, the test error is lower than training errors of all other models.\n",
    "\n",
    "However this difference between training and test error suggests the model is overfitting. There are 3 ways to improve this: \n",
    "1. Feature Selection\n",
    "2. Test more hyperparameters on RF\n",
    "3. use a simpler model: linear regression. As expected Linear base model might have performed poorly due to shape of data distributions. Transforming, and normalizing data would improve performance. Also using polynomial regression could improve performance."
   ]
  },
  {
   "cell_type": "code",
   "execution_count": null,
   "id": "608b8789",
   "metadata": {},
   "outputs": [],
   "source": []
  }
 ],
 "metadata": {
  "kernelspec": {
   "display_name": "Python 3 (ipykernel)",
   "language": "python",
   "name": "python3"
  },
  "language_info": {
   "codemirror_mode": {
    "name": "ipython",
    "version": 3
   },
   "file_extension": ".py",
   "mimetype": "text/x-python",
   "name": "python",
   "nbconvert_exporter": "python",
   "pygments_lexer": "ipython3",
   "version": "3.9.12"
  }
 },
 "nbformat": 4,
 "nbformat_minor": 5
}
